{
  "nbformat": 4,
  "nbformat_minor": 0,
  "metadata": {
    "colab": {
      "provenance": []
    },
    "kernelspec": {
      "name": "python3",
      "display_name": "Python 3"
    },
    "language_info": {
      "name": "python"
    }
  },
  "cells": [
    {
      "cell_type": "code",
      "execution_count": null,
      "metadata": {
        "colab": {
          "base_uri": "https://localhost:8080/"
        },
        "id": "ZjnkBckOfRA0",
        "outputId": "16670d7f-f430-49e8-9ef1-3865f82fc5e9"
      },
      "outputs": [
        {
          "output_type": "stream",
          "name": "stdout",
          "text": [
            "              precision    recall  f1-score   support\n",
            "\n",
            "           0       0.76      0.47      0.58     19537\n",
            "           1       0.45      0.74      0.56     11382\n",
            "\n",
            "    accuracy                           0.57     30919\n",
            "   macro avg       0.60      0.61      0.57     30919\n",
            "weighted avg       0.64      0.57      0.57     30919\n",
            "\n"
          ]
        }
      ],
      "source": [
        "import pandas as pd\n",
        "import re\n",
        "\n",
        "# Load your dataset\n",
        "df = pd.read_csv('/content/ds.csv')\n",
        "\n",
        "# Define rule-based detection function\n",
        "def is_malicious(query):\n",
        "    # Normalize\n",
        "    q = query.lower().strip()\n",
        "\n",
        "    # Define suspicious patterns\n",
        "    patterns = [\n",
        "        r\"or\\s+1\\s*=\\s*1\",                     # Tautology\n",
        "        r\"and\\s+1\\s*=\\s*1\",\n",
        "        r\"union\\s+select\",                    # Union attacks\n",
        "        r\"select\\s+.*\\s+from\\s+.*\",           # Generic select\n",
        "        r\";\",                                 # Piggybacked query\n",
        "        r\"--\",                                # SQL comment\n",
        "        r\"#\",                                 # SQL comment\n",
        "        r\"sleep\\s*\\(\",                        # Time delay\n",
        "        r\"benchmark\\s*\\(\",                    # Time-based blind\n",
        "        r\"load_file\\s*\\(\",                    # File access\n",
        "        r\"into\\s+outfile\",                    # File write\n",
        "        r\"xp_cmdshell\",                       # Remote command\n",
        "        r\"waitfor\\s+delay\",                   # SQL Server time delay\n",
        "        r\"exec\\s+\",                           # Execute\n",
        "        r\"information_schema\",                # DB discovery\n",
        "        r\"@@version\",                         # Environment info\n",
        "    ]\n",
        "\n",
        "    # Match any pattern\n",
        "    for pattern in patterns:\n",
        "        if re.search(pattern, q):\n",
        "            return 1  # Malicious\n",
        "    return 0  # Benign\n",
        "\n",
        "# Apply the rule-based classifier\n",
        "df['Predicted_Label'] = df['Query'].apply(is_malicious)\n",
        "\n",
        "# Evaluate if actual labels are present\n",
        "if 'Label' in df.columns:\n",
        "    from sklearn.metrics import classification_report\n",
        "    print(classification_report(df['Label'], df['Predicted_Label']))\n",
        "else:\n",
        "    print(df[['Query', 'Predicted_Label']].head())\n"
      ]
    },
    {
      "cell_type": "markdown",
      "source": [
        "**Dataset -1 **"
      ],
      "metadata": {
        "id": "tp5FYO_9i2pS"
      }
    },
    {
      "cell_type": "code",
      "source": [
        "import pandas as pd\n",
        "import re\n",
        "from sklearn.metrics import accuracy_score, classification_report\n",
        "\n",
        "# Load the dataset\n",
        "df = pd.read_csv('/content/ds.csv')\n",
        "\n",
        "# Rule-based detection function\n",
        "def is_malicious(query):\n",
        "    q = str(query).lower().strip()\n",
        "    patterns = [\n",
        "        r\"or\\s+1\\s*=\\s*1\",\n",
        "        r\"and\\s+1\\s*=\\s*1\",\n",
        "        r\"union\\s+select\",\n",
        "        r\"select\\s+.*\\s+from\\s+.*\",\n",
        "        r\";\",\n",
        "        r\"--\",\n",
        "        r\"#\",\n",
        "        r\"sleep\\s*\\(\",\n",
        "        r\"benchmark\\s*\\(\",\n",
        "        r\"load_file\\s*\\(\",\n",
        "        r\"into\\s+outfile\",\n",
        "        r\"xp_cmdshell\",\n",
        "        r\"waitfor\\s+delay\",\n",
        "        r\"exec\\s+\",\n",
        "        r\"information_schema\",\n",
        "        r\"@@version\",\n",
        "    ]\n",
        "    return int(any(re.search(pattern, q) for pattern in patterns))\n",
        "\n",
        "# Apply rule-based detection\n",
        "df['Predicted_Label'] = df['Query'].apply(is_malicious)\n",
        "\n",
        "# Ensure the actual labels are integers\n",
        "df['Label'] = df['Label'].astype(int)\n",
        "\n",
        "# Compute accuracy\n",
        "accuracy = accuracy_score(df['Label'], df['Predicted_Label'])\n",
        "print(f\"Test Accuracy: {accuracy:.4f}\")\n",
        "\n",
        "# Optional: detailed classification report\n",
        "print(\"\\nClassification Report:\")\n",
        "print(classification_report(df['Label'], df['Predicted_Label']))\n"
      ],
      "metadata": {
        "colab": {
          "base_uri": "https://localhost:8080/"
        },
        "id": "BiZvCInLgbkV",
        "outputId": "f42d59f1-0ab0-4d1b-f4a6-7273325a9dcd"
      },
      "execution_count": null,
      "outputs": [
        {
          "output_type": "stream",
          "name": "stdout",
          "text": [
            "Test Accuracy: 0.5694\n",
            "\n",
            "Classification Report:\n",
            "              precision    recall  f1-score   support\n",
            "\n",
            "           0       0.76      0.47      0.58     19537\n",
            "           1       0.45      0.74      0.56     11382\n",
            "\n",
            "    accuracy                           0.57     30919\n",
            "   macro avg       0.60      0.61      0.57     30919\n",
            "weighted avg       0.64      0.57      0.57     30919\n",
            "\n"
          ]
        }
      ]
    },
    {
      "cell_type": "markdown",
      "source": [
        "# Dataset -2 Biggest"
      ],
      "metadata": {
        "id": "m1YOzPHVi8ng"
      }
    },
    {
      "cell_type": "code",
      "source": [
        "import pandas as pd\n",
        "import re\n",
        "from sklearn.metrics import accuracy_score, classification_report\n",
        "\n",
        "# Load the dataset\n",
        "df = pd.read_csv('/content/big.csv')\n",
        "\n",
        "# Rule-based detection function\n",
        "def is_malicious(query):\n",
        "    q = str(query).lower().strip()\n",
        "    patterns = [\n",
        "        r\"or\\s+1\\s*=\\s*1\",\n",
        "        r\"and\\s+1\\s*=\\s*1\",\n",
        "        r\"union\\s+select\",\n",
        "        r\"select\\s+.*\\s+from\\s+.*\",\n",
        "        r\";\",\n",
        "        r\"--\",\n",
        "        r\"#\",\n",
        "        r\"sleep\\s*\\(\",\n",
        "        r\"benchmark\\s*\\(\",\n",
        "        r\"load_file\\s*\\(\",\n",
        "        r\"into\\s+outfile\",\n",
        "        r\"xp_cmdshell\",\n",
        "        r\"waitfor\\s+delay\",\n",
        "        r\"exec\\s+\",\n",
        "        r\"information_schema\",\n",
        "        r\"@@version\",\n",
        "    ]\n",
        "    return int(any(re.search(pattern, q) for pattern in patterns))\n",
        "\n",
        "# Apply rule-based detection\n",
        "df['Predicted_Label'] = df['Query'].apply(is_malicious)\n",
        "\n",
        "# Ensure the actual labels are integers\n",
        "df['Label'] = df['Label'].astype(int)\n",
        "\n",
        "# Compute accuracy\n",
        "accuracy = accuracy_score(df['Label'], df['Predicted_Label'])\n",
        "print(f\"Test Accuracy: {accuracy:.4f}\")\n",
        "\n",
        "# Optional: detailed classification report\n",
        "print(\"\\nClassification Report:\")\n",
        "print(classification_report(df['Label'], df['Predicted_Label']))\n"
      ],
      "metadata": {
        "colab": {
          "base_uri": "https://localhost:8080/"
        },
        "id": "kRdO6ysbjAMj",
        "outputId": "17ffcf16-5ae9-459a-f8b5-f35c6425c25e"
      },
      "execution_count": null,
      "outputs": [
        {
          "output_type": "stream",
          "name": "stdout",
          "text": [
            "Test Accuracy: 0.7953\n",
            "\n",
            "Classification Report:\n",
            "              precision    recall  f1-score   support\n",
            "\n",
            "           0       0.79      0.78      0.78     70576\n",
            "           1       0.80      0.81      0.81     77750\n",
            "\n",
            "    accuracy                           0.80    148326\n",
            "   macro avg       0.79      0.79      0.79    148326\n",
            "weighted avg       0.80      0.80      0.80    148326\n",
            "\n"
          ]
        }
      ]
    }
  ]
}